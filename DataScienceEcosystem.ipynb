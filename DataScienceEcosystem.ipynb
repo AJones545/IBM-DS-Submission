{
 "cells": [
  {
   "cell_type": "markdown",
   "id": "b5fd9301-b156-4077-ae40-e9bb68e3b162",
   "metadata": {},
   "source": [
    "# Data Science Tools and Ecosystem"
   ]
  },
  {
   "cell_type": "markdown",
   "id": "049e4491-1ba5-440d-b478-621a67c637b0",
   "metadata": {},
   "source": [
    "In this notebook, Data Science Tools and Ecosystem are summarized."
   ]
  },
  {
   "cell_type": "markdown",
   "id": "0cabbfde-ca24-4923-911d-606259b11bef",
   "metadata": {},
   "source": [
    "**Objectives**\n",
    "\n",
    "* List popular languages for Data Science\n",
    "* List libraries commonly used by Data Scientists\n",
    "* Write headings in markdown\n",
    "* Construct a markdown table\n",
    "* Solve simple arithmetic problems with Python"
   ]
  },
  {
   "cell_type": "markdown",
   "id": "ba135f6b-97d0-45fa-a6c5-fb1b2cbf101a",
   "metadata": {},
   "source": [
    "Some of the popular languages that Data Scientists use are:\n",
    "\n",
    "1. Python\n",
    "2. R\n",
    "3. C"
   ]
  },
  {
   "cell_type": "markdown",
   "id": "964fc981-f5ed-4f18-8782-fef312050673",
   "metadata": {},
   "source": [
    "Some of the commonly used libraries used by Data Scientists include:\n",
    "\n",
    "1. numpy\n",
    "2. matplotlib\n",
    "3. sklearn\n",
    "4. seaborn\n",
    "5. pandas"
   ]
  },
  {
   "cell_type": "markdown",
   "id": "ba6774c2-77df-4c10-81ec-d71d136cf8d4",
   "metadata": {},
   "source": [
    "| Data Science Tools |\n",
    "| ---- |\n",
    "| Jupyter Lab |\n",
    "| R Studio |\n",
    "| IBM Watson Studio |"
   ]
  },
  {
   "cell_type": "markdown",
   "id": "1169fa4a-5d62-49c8-bc1a-ad458e323661",
   "metadata": {},
   "source": [
    "### Below are a few examples of evaluating arithmetic expressions in Python."
   ]
  },
  {
   "cell_type": "code",
   "execution_count": 2,
   "id": "b853b2e4-7fe8-4039-9ab8-4fdce4e963dc",
   "metadata": {
    "tags": []
   },
   "outputs": [
    {
     "data": {
      "text/plain": [
       "17.0"
      ]
     },
     "execution_count": 2,
     "metadata": {},
     "output_type": "execute_result"
    }
   ],
   "source": [
    "# This is a simple arithmetic expression to add integers\n",
    "(3*4)+5."
   ]
  },
  {
   "cell_type": "code",
   "execution_count": 4,
   "id": "f38ee32a-7bfd-4201-b54a-e4d3d08a52ac",
   "metadata": {
    "tags": []
   },
   "outputs": [
    {
     "data": {
      "text/plain": [
       "3.3333333333333335"
      ]
     },
     "execution_count": 4,
     "metadata": {},
     "output_type": "execute_result"
    }
   ],
   "source": [
    "# This will convert 200 minutes to hours by diving by 60\n",
    "200/60"
   ]
  },
  {
   "cell_type": "markdown",
   "id": "165909c6-a091-45b6-816c-f16e1a19439a",
   "metadata": {},
   "source": [
    "## Author\n",
    "Andrew Jones"
   ]
  }
 ],
 "metadata": {
  "kernelspec": {
   "display_name": "Python 3 (ipykernel)",
   "language": "python",
   "name": "python3"
  },
  "language_info": {
   "codemirror_mode": {
    "name": "ipython",
    "version": 3
   },
   "file_extension": ".py",
   "mimetype": "text/x-python",
   "name": "python",
   "nbconvert_exporter": "python",
   "pygments_lexer": "ipython3",
   "version": "3.8.18"
  }
 },
 "nbformat": 4,
 "nbformat_minor": 5
}
